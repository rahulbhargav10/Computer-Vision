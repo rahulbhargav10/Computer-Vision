{
 "cells": [
  {
   "cell_type": "code",
   "execution_count": 3,
   "id": "53623ac9",
   "metadata": {},
   "outputs": [],
   "source": [
    "# OPENING\n",
    "import cv2 as cv\n",
    "import matplotlib.pyplot as plt\n",
    "import numpy as np\n",
    "\n",
    "def erosion(img,SE):\n",
    "    SE_size=SE.shape[0]//2\n",
    "    img_temp=img.copy()\n",
    "    for i in range(SE_size,img.shape[0]-SE_size):\n",
    "        for j in range(SE_size,img.shape[1]-SE_size):\n",
    "            temp=img[i-SE_size:i+SE_size+1,j-SE_size:j+SE_size+1]\n",
    "            if not (temp == SE).all():\n",
    "                img_temp[i,j]=0\n",
    "    return img_temp\n",
    "\n",
    "def dilation(img,SE):\n",
    "    SE_size=SE.shape[0]//2\n",
    "    img_temp=img.copy()\n",
    "    for i in range(SE_size,img.shape[0]-SE_size):\n",
    "        for j in range(SE_size,img.shape[1]-SE_size):\n",
    "            temp=img[i-SE_size:i+SE_size+1,j-SE_size:j+SE_size+1]\n",
    "            if not (temp==SE).any():\n",
    "                img_temp[i,j]=0\n",
    "            else:\n",
    "                img_temp[i,j]=255\n",
    "    return img_temp\n",
    "\n",
    "img=cv.imread(\"anime girl.jpg\",0)\n",
    "img=cv.resize(img,(600,500))\n",
    "img=cv.threshold(img,127,255,cv.THRESH_BINARY)[1]\n",
    "SE=np.array([[255,255,255],[255,255,255],[255,255,255]])\n",
    "\n",
    "# opening\n",
    "e_img=erosion(img,SE)\n",
    "d_img=dilation(e_img,SE)\n",
    "cv.imshow(\"OPENING\",d_img)\n",
    "cv.waitKey(0)\n",
    "cv.destroyAllWindows()"
   ]
  },
  {
   "cell_type": "code",
   "execution_count": null,
   "id": "1c91ada4",
   "metadata": {},
   "outputs": [],
   "source": []
  }
 ],
 "metadata": {
  "kernelspec": {
   "display_name": "Python 3 (ipykernel)",
   "language": "python",
   "name": "python3"
  },
  "language_info": {
   "codemirror_mode": {
    "name": "ipython",
    "version": 3
   },
   "file_extension": ".py",
   "mimetype": "text/x-python",
   "name": "python",
   "nbconvert_exporter": "python",
   "pygments_lexer": "ipython3",
   "version": "3.8.2"
  }
 },
 "nbformat": 4,
 "nbformat_minor": 5
}
