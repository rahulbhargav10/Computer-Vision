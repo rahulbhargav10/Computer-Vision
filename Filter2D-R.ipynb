{
 "cells": [
  {
   "cell_type": "code",
   "execution_count": 18,
   "id": "1e0f0d95",
   "metadata": {},
   "outputs": [],
   "source": [
    "import numpy as np\n",
    "import cv2 as cv"
   ]
  },
  {
   "cell_type": "code",
   "execution_count": 51,
   "id": "8b635d89",
   "metadata": {},
   "outputs": [],
   "source": [
    "img=cv.imread(\"beautiful_flowers.jpg\")\n",
    "img=cv.resize(img.copy(),(600,480))\n",
    "cv.imshow(\"original image\",img)\n",
    "cv.waitKey(0)\n",
    "cv.destroyAllWindows()"
   ]
  },
  {
   "cell_type": "code",
   "execution_count": 65,
   "id": "ace42315",
   "metadata": {},
   "outputs": [],
   "source": [
    "# blur\n",
    "kernel1=np.ones((5,5),np.float32)/25\n",
    "blurimg=cv.filter2D(img,-1,kernel1)\n",
    "# cv.imshow(\"original image\",img)\n",
    "cv.imshow(\"blur image\",blurimg)\n",
    "cv.waitKey(0)\n",
    "cv.destroyAllWindows()"
   ]
  },
  {
   "cell_type": "code",
   "execution_count": 66,
   "id": "04f287fc",
   "metadata": {},
   "outputs": [],
   "source": [
    "# edge detection\n",
    "kernel2 = np.array([[-1, -1, -1],[-1, 8, -1],[-1, -1, -1]])\n",
    "edge_detected_img=cv.filter2D(img,-1,kernel2)\n",
    "# cv.imshow(\"original image\",img)\n",
    "cv.imshow(\"edge_detected_img\",edge_detected_img)\n",
    "cv.waitKey(0)\n",
    "cv.destroyAllWindows()"
   ]
  },
  {
   "cell_type": "code",
   "execution_count": 67,
   "id": "d7b8168d",
   "metadata": {},
   "outputs": [],
   "source": [
    "# sharpening\n",
    "kernel3 = np.array([[-1,-1,-1], [-1,9,-1], [-1,-1,-1]])\n",
    "sharpend_img=cv.filter2D(img,-1,kernel3)\n",
    "cv.imshow(\"sharpend_img\",sharpend_img)\n",
    "cv.waitKey(0)\n",
    "cv.destroyAllWindows()"
   ]
  },
  {
   "cell_type": "code",
   "execution_count": 64,
   "id": "cb5bfdb8",
   "metadata": {},
   "outputs": [],
   "source": [
    "# box blur\n",
    "kernel4=np.array([[1,1,1],[1,1,1],[1,1,1]],np.float32)/9\n",
    "box_blur=cv.filter2D(img,-1,kernel4)\n",
    "cv.imshow(\"box_blur\",box_blur)\n",
    "cv.waitKey(0)\n",
    "cv.destroyAllWindows()"
   ]
  },
  {
   "cell_type": "code",
   "execution_count": 68,
   "id": "10366caa",
   "metadata": {},
   "outputs": [],
   "source": [
    "# gaussian blur\n",
    "kernel5 = np.array([[1,4,6,4,1],[4,16,24,16,4],[6,24,36,24,6],[4,16,24,16,4],[1,4,6,4,1]])/256\n",
    "gaussian_blur=cv.filter2D(img,-1,kernel5)\n",
    "cv.imshow(\"gaussian_blur\",gaussian_blur)\n",
    "cv.waitKey(0)\n",
    "cv.destroyAllWindows()"
   ]
  }
 ],
 "metadata": {
  "kernelspec": {
   "display_name": "Python 3 (ipykernel)",
   "language": "python",
   "name": "python3"
  },
  "language_info": {
   "codemirror_mode": {
    "name": "ipython",
    "version": 3
   },
   "file_extension": ".py",
   "mimetype": "text/x-python",
   "name": "python",
   "nbconvert_exporter": "python",
   "pygments_lexer": "ipython3",
   "version": "3.8.2"
  }
 },
 "nbformat": 4,
 "nbformat_minor": 5
}
