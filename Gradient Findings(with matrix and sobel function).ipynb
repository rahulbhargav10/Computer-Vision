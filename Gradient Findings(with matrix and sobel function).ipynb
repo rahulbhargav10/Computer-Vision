{
 "cells": [
  {
   "cell_type": "code",
   "execution_count": 1,
   "id": "9ee63ee7",
   "metadata": {},
   "outputs": [],
   "source": [
    "import cv2  as cv\n",
    "import numpy as np"
   ]
  },
  {
   "cell_type": "code",
   "execution_count": 7,
   "id": "b97b7a45",
   "metadata": {},
   "outputs": [],
   "source": [
    "img=cv.imread(\"beautiful_flowers.jpg\",0)\n",
    "img1=cv.resize(img,(450,360))\n",
    "cv.imshow(\"FLOWERS\",img1)\n",
    "cv.waitKey(0)\n",
    "cv.destroyAllWindows()"
   ]
  },
  {
   "cell_type": "markdown",
   "id": "9ebaaa20",
   "metadata": {},
   "source": [
    "# Gradient Findings Using Matrix"
   ]
  },
  {
   "cell_type": "code",
   "execution_count": 8,
   "id": "8299d754",
   "metadata": {},
   "outputs": [],
   "source": [
    "gx=np.array([[-1,-2,-1],[0,0,0],[1,2,1]])\n",
    "gy=np.array([[-1,0,1],[-2,0,2],[-1,0,1]])"
   ]
  },
  {
   "cell_type": "code",
   "execution_count": 9,
   "id": "a265126c",
   "metadata": {},
   "outputs": [],
   "source": [
    "p_gx=cv.filter2D(img1.copy(),-1,gx)\n",
    "p_gy=cv.filter2D(img1.copy(),-1,gy)"
   ]
  },
  {
   "cell_type": "code",
   "execution_count": 12,
   "id": "940fc915",
   "metadata": {},
   "outputs": [],
   "source": [
    "cv.imshow(\"vertical\",p_gx)\n",
    "cv.imshow(\"horizontal\",p_gy)\n",
    "cv.waitKey(0)\n",
    "cv.destroyAllWindows()"
   ]
  },
  {
   "cell_type": "code",
   "execution_count": 14,
   "id": "1a3b280d",
   "metadata": {},
   "outputs": [],
   "source": [
    "p_gx_gy=cv.filter2D(p_gx.copy(),-1,gy)\n",
    "cv.imshow(\"horizontal-Vertical\",p_gx_gy)\n",
    "cv.waitKey(0)\n",
    "cv.destroyAllWindows()"
   ]
  },
  {
   "cell_type": "code",
   "execution_count": 15,
   "id": "abddb804",
   "metadata": {},
   "outputs": [],
   "source": [
    "p_gy_gx=cv.filter2D(p_gy.copy(),-1,gx)\n",
    "cv.imshow(\"vertical_horizontal\",p_gy_gx)\n",
    "cv.waitKey(0)\n",
    "cv.destroyAllWindows()"
   ]
  },
  {
   "cell_type": "code",
   "execution_count": 16,
   "id": "2b929327",
   "metadata": {},
   "outputs": [],
   "source": [
    "cv.imshow(\"horizontal-Vertical\",p_gx_gy)\n",
    "cv.imshow(\"vertical_horizontal\",p_gy_gx)\n",
    "cv.waitKey(0)\n",
    "cv.destroyAllWindows()"
   ]
  },
  {
   "cell_type": "markdown",
   "id": "93637475",
   "metadata": {},
   "source": [
    "# Gradient Findings Using Sobel Function"
   ]
  },
  {
   "cell_type": "code",
   "execution_count": 55,
   "id": "3f25c816",
   "metadata": {},
   "outputs": [],
   "source": [
    "img3=cv.Sobel(img1.copy(),-1,1,1)"
   ]
  },
  {
   "cell_type": "code",
   "execution_count": 56,
   "id": "68a4821e",
   "metadata": {},
   "outputs": [],
   "source": [
    "cv.imshow(\"sobel\",img3)\n",
    "cv.waitKey(0)\n",
    "cv.destroyAllWindows()"
   ]
  },
  {
   "cell_type": "code",
   "execution_count": null,
   "id": "4bc24263",
   "metadata": {},
   "outputs": [],
   "source": []
  }
 ],
 "metadata": {
  "kernelspec": {
   "display_name": "Python 3 (ipykernel)",
   "language": "python",
   "name": "python3"
  },
  "language_info": {
   "codemirror_mode": {
    "name": "ipython",
    "version": 3
   },
   "file_extension": ".py",
   "mimetype": "text/x-python",
   "name": "python",
   "nbconvert_exporter": "python",
   "pygments_lexer": "ipython3",
   "version": "3.8.2"
  }
 },
 "nbformat": 4,
 "nbformat_minor": 5
}
