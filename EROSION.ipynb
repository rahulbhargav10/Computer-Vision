{
 "cells": [
  {
   "cell_type": "code",
   "execution_count": 4,
   "id": "3434c9c3",
   "metadata": {},
   "outputs": [
    {
     "data": {
      "text/plain": [
       "-1"
      ]
     },
     "execution_count": 4,
     "metadata": {},
     "output_type": "execute_result"
    }
   ],
   "source": [
    "# EROSION\n",
    "import cv2 as cv\n",
    "import matplotlib.pyplot as plt\n",
    "import numpy as np\n",
    "\n",
    "def erosion(img,SE):\n",
    "    SE_size=SE.shape[0]//2\n",
    "    img_temp=img.copy()\n",
    "    for i in range(SE_size,img.shape[0]-SE_size):\n",
    "        for j in range(SE_size,img.shape[1]-SE_size):\n",
    "            temp=img[i-SE_size:i+SE_size+1,j-SE_size:j+SE_size+1]\n",
    "            if not (temp == SE).all():\n",
    "                img_temp[i,j]=0\n",
    "    return img_temp\n",
    "\n",
    "img=cv.imread(\"anime girl.jpg\",0)\n",
    "img=cv.resize(img,(600,500))\n",
    "img=cv.threshold(img,127,255,cv.THRESH_BINARY)[1]\n",
    "SE=np.array([[255,255,255],[255,255,255],[255,255,255]])\n",
    "new_img=erosion(img,SE)\n",
    "con=np.concatenate((img,new_img),axis=1)\n",
    "cv.imshow(\"BW\",img)\n",
    "cv.imshow(\"eroded\",new_img)\n",
    "cv.waitKey(0)"
   ]
  },
  {
   "cell_type": "code",
   "execution_count": null,
   "id": "cfe4c08c",
   "metadata": {},
   "outputs": [],
   "source": []
  }
 ],
 "metadata": {
  "kernelspec": {
   "display_name": "Python 3 (ipykernel)",
   "language": "python",
   "name": "python3"
  },
  "language_info": {
   "codemirror_mode": {
    "name": "ipython",
    "version": 3
   },
   "file_extension": ".py",
   "mimetype": "text/x-python",
   "name": "python",
   "nbconvert_exporter": "python",
   "pygments_lexer": "ipython3",
   "version": "3.8.2"
  }
 },
 "nbformat": 4,
 "nbformat_minor": 5
}
