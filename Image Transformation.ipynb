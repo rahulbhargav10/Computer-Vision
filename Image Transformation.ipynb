{
 "cells": [
  {
   "cell_type": "code",
   "execution_count": 1,
   "id": "83e94ba0",
   "metadata": {},
   "outputs": [],
   "source": [
    "import cv2 as cv\n",
    "import numpy as np \n",
    "import math"
   ]
  },
  {
   "cell_type": "code",
   "execution_count": 2,
   "id": "3be864a9",
   "metadata": {},
   "outputs": [],
   "source": [
    "img=cv.imread(\"skull.jpg\")\n",
    "cv.imshow(\"SKULL\",img)\n",
    "cv.waitKey(0)\n",
    "cv.destroyAllWindows()"
   ]
  },
  {
   "cell_type": "markdown",
   "id": "07474ee1",
   "metadata": {},
   "source": [
    "# Rotation"
   ]
  },
  {
   "cell_type": "code",
   "execution_count": 3,
   "id": "7f9bf8c8",
   "metadata": {},
   "outputs": [],
   "source": [
    "k1=np.float32([[math.cos(120),math.sin(120),0],\n",
    "              [-math.sin(120),math.cos(120),0]])\n",
    "img2=cv.warpAffine(img,k1,(img.shape[0]*3,img.shape[1]*3))"
   ]
  },
  {
   "cell_type": "code",
   "execution_count": 4,
   "id": "73aacced",
   "metadata": {},
   "outputs": [],
   "source": [
    "cv.imshow(\"rotation\",img2)\n",
    "cv.waitKey(0)\n",
    "cv.destroyAllWindows()"
   ]
  },
  {
   "cell_type": "markdown",
   "id": "b4601c91",
   "metadata": {},
   "source": [
    "# Traslation"
   ]
  },
  {
   "cell_type": "code",
   "execution_count": 7,
   "id": "87a57623",
   "metadata": {},
   "outputs": [],
   "source": [
    "k2=np.float32([[1,0,1],[0,1,1]])\n",
    "img3=cv.warpAffine(img,k2,(img.shape[0],img.shape[1]))"
   ]
  },
  {
   "cell_type": "code",
   "execution_count": 8,
   "id": "44e5ef3c",
   "metadata": {},
   "outputs": [],
   "source": [
    "cv.imshow(\"traslation\",img3)\n",
    "cv.waitKey(0)\n",
    "cv.destroyAllWindows()"
   ]
  },
  {
   "cell_type": "markdown",
   "id": "5a8f91cc",
   "metadata": {},
   "source": [
    "# Scaling"
   ]
  },
  {
   "cell_type": "code",
   "execution_count": 11,
   "id": "a9348044",
   "metadata": {},
   "outputs": [],
   "source": [
    "k3=np.float32([[2,0,0],[0,2,0]])\n",
    "img4=cv.warpAffine(img,k3,(img.shape[0]*2,img.shape[1]*2))"
   ]
  },
  {
   "cell_type": "code",
   "execution_count": 12,
   "id": "5e041480",
   "metadata": {},
   "outputs": [],
   "source": [
    "cv.imshow(\"Scaling\",img4)\n",
    "cv.waitKey(0)\n",
    "cv.destroyAllWindows()"
   ]
  },
  {
   "cell_type": "markdown",
   "id": "cd5191ab",
   "metadata": {},
   "source": [
    "# Shearing"
   ]
  },
  {
   "cell_type": "code",
   "execution_count": 22,
   "id": "0abdcc71",
   "metadata": {},
   "outputs": [],
   "source": [
    "k4=np.float32([[1,0.2,0],[0,1,1]])\n",
    "img5=cv.warpAffine(img,k4,(img.shape[0]*2,img.shape[1]*2))"
   ]
  },
  {
   "cell_type": "code",
   "execution_count": 23,
   "id": "0fcf37ed",
   "metadata": {},
   "outputs": [],
   "source": [
    "cv.imshow(\"Shearing\",img5)\n",
    "cv.waitKey(0)\n",
    "cv.destroyAllWindows()"
   ]
  },
  {
   "cell_type": "code",
   "execution_count": null,
   "id": "0cf324d4",
   "metadata": {},
   "outputs": [],
   "source": []
  }
 ],
 "metadata": {
  "kernelspec": {
   "display_name": "Python 3",
   "language": "python",
   "name": "python3"
  },
  "language_info": {
   "codemirror_mode": {
    "name": "ipython",
    "version": 3
   },
   "file_extension": ".py",
   "mimetype": "text/x-python",
   "name": "python",
   "nbconvert_exporter": "python",
   "pygments_lexer": "ipython3",
   "version": "3.8.8"
  }
 },
 "nbformat": 4,
 "nbformat_minor": 5
}
