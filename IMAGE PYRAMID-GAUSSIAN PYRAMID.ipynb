{
 "cells": [
  {
   "cell_type": "code",
   "execution_count": 1,
   "id": "4c7e5e80",
   "metadata": {},
   "outputs": [],
   "source": [
    "import cv2 as cv"
   ]
  },
  {
   "cell_type": "code",
   "execution_count": null,
   "id": "7815a8f5",
   "metadata": {},
   "outputs": [],
   "source": [
    "o_img=cv.imread(\"beautiful_flowers.jpg\")\n",
    "img=cv.resize(o_img,(600,480))\n",
    "layer=img.copy()\n",
    "for i in range(3):\n",
    "    layer = cv.pyrDown(layer)\n",
    "    cv.imshow(f\"str{i+1}\", layer)\n",
    "    cv.waitKey(0)  \n",
    "cv.destroyAllWindows()"
   ]
  },
  {
   "cell_type": "code",
   "execution_count": null,
   "id": "e8086ba3",
   "metadata": {},
   "outputs": [],
   "source": [
    "layer=img.copy()\n",
    "for i in range(4):\n",
    "    layer = cv.pyrUp(layer)\n",
    "    cv.imshow(f\"str{i+1}\", layer)\n",
    "    cv.waitKey(0)  \n",
    "cv.destroyAllWindows()"
   ]
  },
  {
   "cell_type": "code",
   "execution_count": null,
   "id": "4d7fea7f",
   "metadata": {},
   "outputs": [],
   "source": []
  }
 ],
 "metadata": {
  "kernelspec": {
   "display_name": "Python 3 (ipykernel)",
   "language": "python",
   "name": "python3"
  },
  "language_info": {
   "codemirror_mode": {
    "name": "ipython",
    "version": 3
   },
   "file_extension": ".py",
   "mimetype": "text/x-python",
   "name": "python",
   "nbconvert_exporter": "python",
   "pygments_lexer": "ipython3",
   "version": "3.8.2"
  }
 },
 "nbformat": 4,
 "nbformat_minor": 5
}
