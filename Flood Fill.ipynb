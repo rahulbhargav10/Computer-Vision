{
 "cells": [
  {
   "cell_type": "code",
   "execution_count": 29,
   "id": "2bda3a15",
   "metadata": {},
   "outputs": [],
   "source": [
    "import cv2 as cv\n",
    "\n",
    "def flood_fill(img,x,y,col):\n",
    "    oldC=img[x][y]\n",
    "    queue=[]\n",
    "    if oldC!=col:\n",
    "        queue.append((x,y))\n",
    "        img[x][y]=col\n",
    "    \n",
    "    def isvalid(img,x,y,old,new):\n",
    "        if x>=img.shape[0] or y>=img.shape[1] or x<0 or y<0:\n",
    "            return False\n",
    "        elif img[x][y]!=old or img[x][y]==new:\n",
    "            return False\n",
    "        return True\n",
    "    while(queue):\n",
    "        sx,sy=queue.pop()\n",
    "        if isvalid(img,sx+1,sy,oldC,col):\n",
    "            queue.append((sx+1,sy))\n",
    "            img[sx+1][sy]=col\n",
    "        if isvalid(img,sx-1,sy,oldC,col):\n",
    "            queue.append((sx-1,sy))\n",
    "            img[sx-1][sy]=col\n",
    "        if isvalid(img,sx+1,sy+1,oldC,col):\n",
    "            queue.append((sx,sy+1))\n",
    "            img[sx][sy+1]=col\n",
    "        if isvalid(img,sx,sy-1,oldC,col):\n",
    "            queue.append((sx,sy-1))\n",
    "            img[sx][sy-1]=col\n",
    "    return img\n",
    "\n",
    "img=cv.imread(\"anime girl.jpg\",0)\n",
    "bwimg = cv.threshold(img, 127, 255, cv.THRESH_BINARY)[1]\n",
    "bwimg=cv.resize(bwimg.copy(),(540,480))\n",
    "X,Y=(142,388)\n",
    "col=100\n",
    "k=flood_fill(bwimg.copy(),X,Y,col)\n",
    "cv.imshow(\"original\",bwimg)\n",
    "cv.imshow(\"flood fill\",k)\n",
    "cv.waitKey(0)\n",
    "cv.destroyAllWindows()"
   ]
  },
  {
   "cell_type": "code",
   "execution_count": 27,
   "id": "14662b2d",
   "metadata": {},
   "outputs": [],
   "source": []
  },
  {
   "cell_type": "code",
   "execution_count": 28,
   "id": "5d52e13f",
   "metadata": {},
   "outputs": [],
   "source": []
  }
 ],
 "metadata": {
  "kernelspec": {
   "display_name": "Python 3 (ipykernel)",
   "language": "python",
   "name": "python3"
  },
  "language_info": {
   "codemirror_mode": {
    "name": "ipython",
    "version": 3
   },
   "file_extension": ".py",
   "mimetype": "text/x-python",
   "name": "python",
   "nbconvert_exporter": "python",
   "pygments_lexer": "ipython3",
   "version": "3.8.2"
  }
 },
 "nbformat": 4,
 "nbformat_minor": 5
}
